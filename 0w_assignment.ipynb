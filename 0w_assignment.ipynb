{
 "cells": [
  {
   "cell_type": "markdown",
   "metadata": {},
   "source": [
    "# 练习题1:图解中国人的生活水平变化"
   ]
  },
  {
   "cell_type": "markdown",
   "metadata": {},
   "source": [
    "## 你认为应该用什么样的数字来度量中国人的生活水平变化？"
   ]
  },
  {
   "cell_type": "markdown",
   "metadata": {},
   "source": [
    "恩格尔系数(Engel's Coefficient)指食品支出总额占个人消费支出总额的比重。\n",
    "\n",
    "19世纪德国统计学家恩格尔根据统计资料，对消费结构的变化得出一个规律：一个家庭收入越少，家庭收入中（或总支出中）用来购买食物的支出所占的比例就越大，随着家庭收入的增加，家庭收入中（或总支出中）用来购买食物的支出比例则会下降。推而广之，一个国家越穷，每个国民的平均收入中（或平均支出中）用于购买食物的支出所占比例就越大，随着国家的富裕，这个比例呈下降趋势。  \n",
    "\n",
    "俗话说，民以食为天。在收入水平较低时，食品在消费支出中必然占有重要地位。随着收入的增加，在食物需求基本满足的情况下，消费的重心才会开始向穿、用等其他方面转移。\n",
    "\n",
    "因此可以尝试用恩格尔系数来度量中国人的生活水平变化。"
   ]
  },
  {
   "cell_type": "markdown",
   "metadata": {},
   "source": [
    "## 尝试找到这样的数据源并画出图看看。"
   ]
  },
  {
   "cell_type": "markdown",
   "metadata": {},
   "source": [
    "在[数析网上](http://www.tjsql.com/)可以搜到[人民生活基本情况(1978-2014年)]()的数据，抽取其中城镇居民和农村居民的恩格尔数据进行作图，可得下图\n",
    "\n",
    "![居民家庭恩格尔系数变化](http://i4.tietuku.com/18ce92b0890f6fac.png)\n",
    "\n",
    "联合国根据恩格尔系数的大小，对世界各国的生活水平有一个划分标准，即一个国家平均家庭恩格尔系数大于60%为贫穷；50%-60%为温饱；40%-50%为小康；30%-40%属于相对富裕；20%-30%为富足；20%以下为极其富裕。\n",
    "\n",
    "由上图可以看出，我国在2000年左右开始进入相对富裕的阶段。从1978年至2014年，中国居民家庭的恩格尔系数呈下降趋势，表示中国人的生活水平在不断变好。"
   ]
  },
  {
   "cell_type": "markdown",
   "metadata": {},
   "source": [
    "## 用这种数字来衡量有什么样的缺点？"
   ]
  },
  {
   "cell_type": "markdown",
   "metadata": {},
   "source": [
    "然而，用恩格尔系数来度量中国人的生活水平也有其局限性：\n",
    "\n",
    "+ 生活习惯的不同使得很难对恩格尔系数进行横向比较。例如相较于其他一些国家，中国人可能更乐于在美食上进行消费，这时就难以根据恩格尔系数比较两国人民的生活水平。此外，国内各省市区域之间的消费习惯也有很大的不同，这使得用恩格尔系数来比较各省之间的生活水平也变得困难。\n",
    "+ 恩格尔系数可以指示老百姓在食品支出外还有多少闲钱可以用，但并未考虑食品之外的支出结构。例如相比过去，人们食品支出的占比是减少了，但房贷压力却升高了，所以不能简单地根据恩格尔系数降低来说人民生活水平在提高。"
   ]
  },
  {
   "cell_type": "markdown",
   "metadata": {},
   "source": [
    "# 练习题2:理解双盲实验"
   ]
  },
  {
   "cell_type": "markdown",
   "metadata": {},
   "source": [
    "`盲`指的是对实验的信息进行屏蔽。若被试知道了自己处于实验组，则容易出现”安慰剂效应“，表现出与平常情况下不同的行为。若实验主试知道现在面对的是实验组被试，则会有意或无意地表现出对被试行为的期望，从而影响到实验结果，这种情况也被称作”观察者偏差“。安慰剂效应和观察者偏差都会影响到实验结果的客观性，为了减少其影响，在实验中需要让被试和主试都不知道被试是处于实验组还是对照组，这样的实验也就是双盲实验。"
   ]
  },
  {
   "cell_type": "markdown",
   "metadata": {},
   "source": [
    "科学松鼠会里有一篇[漫画](http://songshuhui.net/archives/75388)，生动地讲解了什么是双盲实验。"
   ]
  },
  {
   "cell_type": "markdown",
   "metadata": {},
   "source": [
    "# 练习题3:学习使用Google Ngram Viewer\n",
    "学习使用Google Ngram Viewer服务，并研究你关心的某一组词汇的变化。"
   ]
  },
  {
   "cell_type": "markdown",
   "metadata": {},
   "source": [
    "现在心理学领域有一股积极心理学 (positive psychology) 的思潮，它提倡去研究人积极的方面。\n",
    "\n",
    "于是在`Google Ngram Viewer`搜`positive psychology`"
   ]
  },
  {
   "cell_type": "markdown",
   "metadata": {},
   "source": [
    "![Positive psychology](http://i4.tietuku.com/a5bedd498be58319.png)"
   ]
  },
  {
   "cell_type": "markdown",
   "metadata": {},
   "source": [
    "1997年积极心理学之父Seligman在就任APA（American Psychiatric Association）主席一职时提出`积极心理学 (positive psychology)` 这一概念，2000年的时候，Seligman和Csikzentmihlyi发表了”Positive psychology: An introduction.“一文。在此之后，愈来愈多的心理学家涉足这一研究领域。\n",
    "\n",
    "在`Google Ngram Viewer`也能看出这一趋势，从97年左右开始，positive psychology这组词的出现频率就一路上涨。"
   ]
  },
  {
   "cell_type": "markdown",
   "metadata": {},
   "source": [
    "# 练习题4:理解Simpson's Paradox\n",
    "理解什么是Simpson's Paradox。"
   ]
  },
  {
   "cell_type": "markdown",
   "metadata": {},
   "source": [
    "辛普森悖论(Simpson's Paradox)是指两变量x与y之间的关系，在考虑进第三个变量z之后，出现了反转。\n",
    "\n",
    "UC Berkeley的一个数据可视化小组做了一个[交互式网站](http://vudlab.com/simpsons/)，在上面可以对辛普森悖论有更直观的了解。\n",
    "\n",
    "辛普森悖论提醒我们要用批判性的思维谨慎对待观察型研究得到的数据，因为可能存在一个未考虑到的潜在变量，它能反转现有数据得出的结论。"
   ]
  },
  {
   "cell_type": "markdown",
   "metadata": {},
   "source": [
    "# 练习题5:利用贝叶斯定理解题\n",
    "学习贝叶斯定理，做下题：\n",
    "\n",
    "已知某种疾病的发病率是0.001，即1000人中会有一个人得病。现有一种试剂可以检验患者是否得病，它的准确率是0.99，即在患者确实得病的情况下，它有99%的可能呈现阳性。它的误报率是5%，即在患者没有得病的情况下，它有5%的可能呈现阳性。现有一个病人的检验结果为阳性，请问他确实得病的可能性有多大？"
   ]
  },
  {
   "cell_type": "markdown",
   "metadata": {},
   "source": [
    "若将得病记为事件A，将检验结果为阳性记为事件B，则根据题干可知：\n",
    "$$P(A) = 0.001$$\n",
    "$$P(B|A) = 0.99$$\n",
    "$$P(B|\\bar A) = 0.05$$"
   ]
  },
  {
   "cell_type": "markdown",
   "metadata": {},
   "source": [
    "题目欲求P(A|B),根据贝叶斯定理和全概率公式：\n",
    "\n",
    "$$ P(A|B) = \\frac{P(A\\cap B)}{P(B)}\\\\= \\frac{P(A)\\times P(B|A)}{P(B|A) \\times P(A) + P(B|\\bar A) \\times P(\\bar A)} \\\\ = \\frac {0.001 \\times 0.99} {0.99 \\times 0.001 + 0.05 \\times 0.999} \\\\ \\approx 0.019$$"
   ]
  },
  {
   "cell_type": "markdown",
   "metadata": {},
   "source": [
    "结果表明，已知病人检验结果为阳性，病人确实得病的概率约为1.9%"
   ]
  }
 ],
 "metadata": {
  "kernelspec": {
   "display_name": "Python 2",
   "language": "python",
   "name": "python2"
  },
  "language_info": {
   "codemirror_mode": {
    "name": "ipython",
    "version": 2
   },
   "file_extension": ".py",
   "mimetype": "text/x-python",
   "name": "python",
   "nbconvert_exporter": "python",
   "pygments_lexer": "ipython2",
   "version": "2.7.10"
  }
 },
 "nbformat": 4,
 "nbformat_minor": 0
}
